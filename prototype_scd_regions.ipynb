{
    "metadata": {
        "kernelspec": {
            "name": "SQL",
            "display_name": "SQL",
            "language": "sql"
        },
        "language_info": {
            "name": "sql",
            "version": ""
        },
        "extensions": {
            "azuredatastudio": {
                "version": 1,
                "views": []
            }
        }
    },
    "nbformat_minor": 2,
    "nbformat": 4,
    "cells": [
        {
            "cell_type": "code",
            "source": [
                "DROP TABLE IF EXISTS Test_RegionData;\r\n",
                "\r\n",
                "CREATE TABLE Test_RegionData(\r\n",
                "\r\n",
                "    region_name varchar(10) NOT NULL \r\n",
                "    , region_owner varchar( 10 ) NULL \r\n",
                "    , turn_num int NOT NULL \r\n",
                ")"
            ],
            "metadata": {
                "azdata_cell_guid": "d4ca62b5-11d9-44e5-8b54-7394a187ccb3",
                "tags": [],
                "extensions": {
                    "azuredatastudio": {
                        "views": []
                    }
                }
            },
            "outputs": [
                {
                    "output_type": "display_data",
                    "data": {
                        "text/html": "Commands completed successfully"
                    },
                    "metadata": {}
                },
                {
                    "output_type": "display_data",
                    "data": {
                        "text/html": "Commands completed successfully"
                    },
                    "metadata": {}
                },
                {
                    "output_type": "display_data",
                    "data": {
                        "text/html": "Total execution time: 00:00:00.044"
                    },
                    "metadata": {}
                }
            ],
            "execution_count": 6
        },
        {
            "cell_type": "code",
            "source": [
                "INSERT INTO Test_RegionData( \r\n",
                "    region_name\r\n",
                "    , region_owner \r\n",
                "    , turn_num \r\n",
                ")\r\n",
                "\r\n",
                "    VALUES\r\n",
                "    ( 'regionA', 'faction1' , '1' )\r\n",
                "    , ( 'regionA', 'faction1' , '2' )\r\n",
                "    , ( 'regionA', 'faction1' , '3' )\r\n",
                "    , ( 'regionB', 'faction2' , '1' )\r\n",
                "    , ( 'regionB', NULL , '2' )\r\n",
                "    , ( 'regionB', NULL , '3' )\r\n",
                "    , ( 'regionC', 'faction3' , '1' )\r\n",
                "    , ( 'regionC', NULL , '2' )\r\n",
                "    , ( 'regionC', 'faction1' , '3' )\r\n",
                "    , ( 'regionD', NULL , '1' )\r\n",
                "    , ( 'regionD', NULL , '2' )\r\n",
                "    , ( 'regionD', 'faction4' , '3' )\r\n",
                ""
            ],
            "metadata": {
                "azdata_cell_guid": "7ec9b72b-32a2-40b7-8ee7-ac5f7361336f",
                "tags": [],
                "extensions": {
                    "azuredatastudio": {
                        "views": []
                    }
                }
            },
            "outputs": [
                {
                    "output_type": "display_data",
                    "data": {
                        "text/html": "Commands completed successfully"
                    },
                    "metadata": {}
                },
                {
                    "output_type": "display_data",
                    "data": {
                        "text/html": "Total execution time: 00:00:00.011"
                    },
                    "metadata": {}
                }
            ],
            "execution_count": 7
        },
        {
            "cell_type": "code",
            "source": [
                "select \r\n",
                "    * \r\n",
                "--, lead(turn_num) over(partition by region_name, region_owner order by turn_num) as next_date\r\n",
                "    , LAG(turn_num, 1) OVER (PARTITION BY region_name, region_owner ORDER BY turn_num) AS lag\r\n",
                "    , LEAD(turn_num, 1) OVER (PARTITION BY region_name, region_owner ORDER BY turn_num) AS lead\r\n",
                "FROM Test_RegionData\r\n",
                "\r\n",
                ""
            ],
            "metadata": {
                "azdata_cell_guid": "6d360cdb-c8db-42d7-b5b2-644da8d6dd74",
                "tags": [],
                "extensions": {
                    "azuredatastudio": {
                        "views": []
                    }
                }
            },
            "outputs": [
                {
                    "output_type": "display_data",
                    "data": {
                        "text/html": "(12 row(s) affected)"
                    },
                    "metadata": {}
                },
                {
                    "output_type": "display_data",
                    "data": {
                        "text/html": "Total execution time: 00:00:00.004"
                    },
                    "metadata": {}
                },
                {
                    "output_type": "execute_result",
                    "execution_count": 13,
                    "data": {
                        "application/vnd.dataresource+json": {
                            "schema": {
                                "fields": [
                                    {
                                        "name": "region_name"
                                    },
                                    {
                                        "name": "region_owner"
                                    },
                                    {
                                        "name": "turn_num"
                                    },
                                    {
                                        "name": "lag"
                                    },
                                    {
                                        "name": "lead"
                                    }
                                ]
                            },
                            "data": [
                                {
                                    "0": "regionA",
                                    "1": "faction1",
                                    "2": "1",
                                    "3": "NULL",
                                    "4": "2"
                                },
                                {
                                    "0": "regionA",
                                    "1": "faction1",
                                    "2": "2",
                                    "3": "1",
                                    "4": "3"
                                },
                                {
                                    "0": "regionA",
                                    "1": "faction1",
                                    "2": "3",
                                    "3": "2",
                                    "4": "NULL"
                                },
                                {
                                    "0": "regionB",
                                    "1": "faction2",
                                    "2": "1",
                                    "3": "NULL",
                                    "4": "NULL"
                                },
                                {
                                    "0": "regionB",
                                    "1": "NULL",
                                    "2": "2",
                                    "3": "NULL",
                                    "4": "3"
                                },
                                {
                                    "0": "regionB",
                                    "1": "NULL",
                                    "2": "3",
                                    "3": "2",
                                    "4": "NULL"
                                },
                                {
                                    "0": "regionC",
                                    "1": "faction1",
                                    "2": "3",
                                    "3": "NULL",
                                    "4": "NULL"
                                },
                                {
                                    "0": "regionC",
                                    "1": "faction3",
                                    "2": "1",
                                    "3": "NULL",
                                    "4": "NULL"
                                },
                                {
                                    "0": "regionC",
                                    "1": "NULL",
                                    "2": "2",
                                    "3": "NULL",
                                    "4": "NULL"
                                },
                                {
                                    "0": "regionD",
                                    "1": "faction4",
                                    "2": "3",
                                    "3": "NULL",
                                    "4": "NULL"
                                },
                                {
                                    "0": "regionD",
                                    "1": "NULL",
                                    "2": "1",
                                    "3": "NULL",
                                    "4": "2"
                                },
                                {
                                    "0": "regionD",
                                    "1": "NULL",
                                    "2": "2",
                                    "3": "1",
                                    "4": "NULL"
                                }
                            ]
                        },
                        "text/html": "<table><tr><th>region_name</th><th>region_owner</th><th>turn_num</th><th>lag</th><th>lead</th></tr><tr><td>regionA</td><td>faction1</td><td>1</td><td>NULL</td><td>2</td></tr><tr><td>regionA</td><td>faction1</td><td>2</td><td>1</td><td>3</td></tr><tr><td>regionA</td><td>faction1</td><td>3</td><td>2</td><td>NULL</td></tr><tr><td>regionB</td><td>faction2</td><td>1</td><td>NULL</td><td>NULL</td></tr><tr><td>regionB</td><td>NULL</td><td>2</td><td>NULL</td><td>3</td></tr><tr><td>regionB</td><td>NULL</td><td>3</td><td>2</td><td>NULL</td></tr><tr><td>regionC</td><td>faction1</td><td>3</td><td>NULL</td><td>NULL</td></tr><tr><td>regionC</td><td>faction3</td><td>1</td><td>NULL</td><td>NULL</td></tr><tr><td>regionC</td><td>NULL</td><td>2</td><td>NULL</td><td>NULL</td></tr><tr><td>regionD</td><td>faction4</td><td>3</td><td>NULL</td><td>NULL</td></tr><tr><td>regionD</td><td>NULL</td><td>1</td><td>NULL</td><td>2</td></tr><tr><td>regionD</td><td>NULL</td><td>2</td><td>1</td><td>NULL</td></tr></table>"
                    },
                    "metadata": {
                        "resultSet": {
                            "batchId": 0,
                            "columnInfo": [
                                {
                                    "_provider": "PGSQL",
                                    "allowDbNull": null,
                                    "baseCatalogName": null,
                                    "baseColumnName": "region_name",
                                    "baseSchemaName": null,
                                    "baseServerName": null,
                                    "baseTableName": null,
                                    "columnName": "region_name",
                                    "columnOrdinal": 0,
                                    "columnSize": 10,
                                    "dataType": "varchar",
                                    "isAliased": null,
                                    "isAutoIncrement": null,
                                    "isExpression": null,
                                    "isHidden": null,
                                    "isIdentity": null,
                                    "isKey": null,
                                    "isReadOnly": false,
                                    "isUnique": null,
                                    "isUpdatable": false,
                                    "numericPrecision": null,
                                    "numericScale": null
                                },
                                {
                                    "_provider": "PGSQL",
                                    "allowDbNull": null,
                                    "baseCatalogName": null,
                                    "baseColumnName": "region_owner",
                                    "baseSchemaName": null,
                                    "baseServerName": null,
                                    "baseTableName": null,
                                    "columnName": "region_owner",
                                    "columnOrdinal": 1,
                                    "columnSize": 10,
                                    "dataType": "varchar",
                                    "isAliased": null,
                                    "isAutoIncrement": null,
                                    "isExpression": null,
                                    "isHidden": null,
                                    "isIdentity": null,
                                    "isKey": null,
                                    "isReadOnly": false,
                                    "isUnique": null,
                                    "isUpdatable": false,
                                    "numericPrecision": null,
                                    "numericScale": null
                                },
                                {
                                    "_provider": "PGSQL",
                                    "allowDbNull": null,
                                    "baseCatalogName": null,
                                    "baseColumnName": "turn_num",
                                    "baseSchemaName": null,
                                    "baseServerName": null,
                                    "baseTableName": null,
                                    "columnName": "turn_num",
                                    "columnOrdinal": 2,
                                    "columnSize": 4,
                                    "dataType": "int4",
                                    "isAliased": null,
                                    "isAutoIncrement": null,
                                    "isExpression": null,
                                    "isHidden": null,
                                    "isIdentity": null,
                                    "isKey": null,
                                    "isReadOnly": false,
                                    "isUnique": null,
                                    "isUpdatable": false,
                                    "numericPrecision": null,
                                    "numericScale": null
                                },
                                {
                                    "_provider": "PGSQL",
                                    "allowDbNull": null,
                                    "baseCatalogName": null,
                                    "baseColumnName": "lag",
                                    "baseSchemaName": null,
                                    "baseServerName": null,
                                    "baseTableName": null,
                                    "columnName": "lag",
                                    "columnOrdinal": 3,
                                    "columnSize": 4,
                                    "dataType": "int4",
                                    "isAliased": null,
                                    "isAutoIncrement": null,
                                    "isExpression": null,
                                    "isHidden": null,
                                    "isIdentity": null,
                                    "isKey": null,
                                    "isReadOnly": false,
                                    "isUnique": null,
                                    "isUpdatable": false,
                                    "numericPrecision": null,
                                    "numericScale": null
                                },
                                {
                                    "_provider": "PGSQL",
                                    "allowDbNull": null,
                                    "baseCatalogName": null,
                                    "baseColumnName": "lead",
                                    "baseSchemaName": null,
                                    "baseServerName": null,
                                    "baseTableName": null,
                                    "columnName": "lead",
                                    "columnOrdinal": 4,
                                    "columnSize": 4,
                                    "dataType": "int4",
                                    "isAliased": null,
                                    "isAutoIncrement": null,
                                    "isExpression": null,
                                    "isHidden": null,
                                    "isIdentity": null,
                                    "isKey": null,
                                    "isReadOnly": false,
                                    "isUnique": null,
                                    "isUpdatable": false,
                                    "numericPrecision": null,
                                    "numericScale": null
                                }
                            ],
                            "complete": true,
                            "id": 0,
                            "rowCount": 12
                        }
                    }
                }
            ],
            "execution_count": 13
        },
        {
            "cell_type": "code",
            "source": [
                "select \r\n",
                "    *\r\n",
                "FROM (\r\n",
                "    select \r\n",
                "        *\r\n",
                "        , ROW_NUMBER() OVER (PARTITION BY region_name, region_owner ORDER BY turn_num) as parition_row \r\n",
                "        , MIN(turn_num) over (partition by region_name, region_owner ORDER BY turn_num) as valid_from_turn\r\n",
                "        , MAX(turn_num) over (partition by region_name, region_owner ) as valid_to_turn\r\n",
                "    FROM Test_RegionData\r\n",
                ") as q \r\n",
                "where parition_row = 1 \r\n",
                ""
            ],
            "metadata": {
                "azdata_cell_guid": "cf44c75f-31bd-49a6-9b5a-06ea94b58d45",
                "tags": [],
                "extensions": {
                    "azuredatastudio": {
                        "views": []
                    }
                }
            },
            "outputs": [
                {
                    "output_type": "display_data",
                    "data": {
                        "text/html": "(8 row(s) affected)"
                    },
                    "metadata": {}
                },
                {
                    "output_type": "display_data",
                    "data": {
                        "text/html": "Total execution time: 00:00:00.017"
                    },
                    "metadata": {}
                },
                {
                    "output_type": "execute_result",
                    "execution_count": 1,
                    "data": {
                        "application/vnd.dataresource+json": {
                            "schema": {
                                "fields": [
                                    {
                                        "name": "region_name"
                                    },
                                    {
                                        "name": "region_owner"
                                    },
                                    {
                                        "name": "turn_num"
                                    },
                                    {
                                        "name": "parition_row"
                                    },
                                    {
                                        "name": "valid_from_turn"
                                    },
                                    {
                                        "name": "valid_to_turn"
                                    }
                                ]
                            },
                            "data": [
                                {
                                    "0": "regionA",
                                    "1": "faction1",
                                    "2": "1",
                                    "3": "1",
                                    "4": "1",
                                    "5": "3"
                                },
                                {
                                    "0": "regionB",
                                    "1": "faction2",
                                    "2": "1",
                                    "3": "1",
                                    "4": "1",
                                    "5": "1"
                                },
                                {
                                    "0": "regionB",
                                    "1": "NULL",
                                    "2": "2",
                                    "3": "1",
                                    "4": "2",
                                    "5": "3"
                                },
                                {
                                    "0": "regionC",
                                    "1": "faction1",
                                    "2": "3",
                                    "3": "1",
                                    "4": "3",
                                    "5": "3"
                                },
                                {
                                    "0": "regionC",
                                    "1": "faction3",
                                    "2": "1",
                                    "3": "1",
                                    "4": "1",
                                    "5": "1"
                                },
                                {
                                    "0": "regionC",
                                    "1": "NULL",
                                    "2": "2",
                                    "3": "1",
                                    "4": "2",
                                    "5": "2"
                                },
                                {
                                    "0": "regionD",
                                    "1": "faction4",
                                    "2": "3",
                                    "3": "1",
                                    "4": "3",
                                    "5": "3"
                                },
                                {
                                    "0": "regionD",
                                    "1": "NULL",
                                    "2": "1",
                                    "3": "1",
                                    "4": "1",
                                    "5": "2"
                                }
                            ]
                        },
                        "text/html": "<table><tr><th>region_name</th><th>region_owner</th><th>turn_num</th><th>parition_row</th><th>valid_from_turn</th><th>valid_to_turn</th></tr><tr><td>regionA</td><td>faction1</td><td>1</td><td>1</td><td>1</td><td>3</td></tr><tr><td>regionB</td><td>faction2</td><td>1</td><td>1</td><td>1</td><td>1</td></tr><tr><td>regionB</td><td>NULL</td><td>2</td><td>1</td><td>2</td><td>3</td></tr><tr><td>regionC</td><td>faction1</td><td>3</td><td>1</td><td>3</td><td>3</td></tr><tr><td>regionC</td><td>faction3</td><td>1</td><td>1</td><td>1</td><td>1</td></tr><tr><td>regionC</td><td>NULL</td><td>2</td><td>1</td><td>2</td><td>2</td></tr><tr><td>regionD</td><td>faction4</td><td>3</td><td>1</td><td>3</td><td>3</td></tr><tr><td>regionD</td><td>NULL</td><td>1</td><td>1</td><td>1</td><td>2</td></tr></table>"
                    },
                    "metadata": {}
                }
            ],
            "execution_count": 1
        },
        {
            "cell_type": "code",
            "source": [
                "\r\n",
                "        \r\n",
                "with max_cte AS \r\n",
                "(\r\n",
                "    select  turn_num, max(modifiedOn) as modifiedOnMax\r\n",
                "    FROM tw_regions\r\n",
                "    group by turn_num\r\n",
                ")\r\n",
                "-- use the regions file ( smallest ) to generate turn_num \r\n",
                "select \r\n",
                "    --CAST( turn_num as int ) as turn_Num \r\n",
                "    --, modifiedonMax \r\n",
                "    count( * ) as count_ \r\n",
                "FROM max_cte "
            ],
            "metadata": {
                "azdata_cell_guid": "807a5b53-7581-4fbc-9cd1-8570520a38b6"
            },
            "outputs": [
                {
                    "output_type": "display_data",
                    "data": {
                        "text/html": "(1 row(s) affected)"
                    },
                    "metadata": {}
                },
                {
                    "output_type": "display_data",
                    "data": {
                        "text/html": "Total execution time: 00:00:00.014"
                    },
                    "metadata": {}
                },
                {
                    "output_type": "execute_result",
                    "metadata": {},
                    "execution_count": 9,
                    "data": {
                        "application/vnd.dataresource+json": {
                            "schema": {
                                "fields": [
                                    {
                                        "name": "count_"
                                    }
                                ]
                            },
                            "data": [
                                {
                                    "0": "126"
                                }
                            ]
                        },
                        "text/html": [
                            "<table>",
                            "<tr><th>count_</th></tr>",
                            "<tr><td>126</td></tr>",
                            "</table>"
                        ]
                    }
                }
            ],
            "execution_count": 9
        },
        {
            "cell_type": "code",
            "source": [
                "\r\n",
                "        \r\n",
                "with window_cte AS \r\n",
                "(\r\n",
                "    select \r\n",
                "        * \r\n",
                "        , ROW_NUMBER() OVER ( PARTITION BY  turn_num, modifiedOn ORDER BY modifiedOn DESC ) as saveModifiedRank \r\n",
                "        FROM tw_regions\r\n",
                ")\r\n",
                "-- use the regions file ( smallest ) to generate turn_num \r\n",
                "select\r\n",
                "    \r\n",
                "    CAST( turn_num as int ) as turn_Num \r\n",
                "    , modifiedOn  \r\n",
                "FROM window_cte \r\n",
                "where saveModifiedRank = 1 \r\n",
                "order by turn_num "
            ],
            "metadata": {
                "azdata_cell_guid": "d90f862f-8aac-4b66-8400-137ed16d0d7e"
            },
            "outputs": [
                {
                    "output_type": "display_data",
                    "data": {
                        "text/html": "(126 row(s) affected)"
                    },
                    "metadata": {}
                },
                {
                    "output_type": "display_data",
                    "data": {
                        "text/html": "Total execution time: 00:00:00.101"
                    },
                    "metadata": {}
                },
                {
                    "output_type": "execute_result",
                    "metadata": {},
                    "execution_count": 18,
                    "data": {
                        "application/vnd.dataresource+json": {
                            "schema": {
                                "fields": [
                                    {
                                        "name": "turn_num"
                                    },
                                    {
                                        "name": "modifiedon"
                                    }
                                ]
                            },
                            "data": [
                                {
                                    "0": "1",
                                    "1": "1631889735"
                                },
                                {
                                    "0": "2",
                                    "1": "1631889813"
                                },
                                {
                                    "0": "3",
                                    "1": "1631890124"
                                },
                                {
                                    "0": "4",
                                    "1": "1631890148"
                                },
                                {
                                    "0": "5",
                                    "1": "1631890201"
                                },
                                {
                                    "0": "6",
                                    "1": "1631890227"
                                },
                                {
                                    "0": "7",
                                    "1": "1631890267"
                                },
                                {
                                    "0": "8",
                                    "1": "1631890437"
                                },
                                {
                                    "0": "9",
                                    "1": "1631890531"
                                },
                                {
                                    "0": "10",
                                    "1": "1631890594"
                                },
                                {
                                    "0": "11",
                                    "1": "1631890633"
                                },
                                {
                                    "0": "12",
                                    "1": "1631890696"
                                },
                                {
                                    "0": "13",
                                    "1": "1631890766"
                                },
                                {
                                    "0": "14",
                                    "1": "1631891232"
                                },
                                {
                                    "0": "15",
                                    "1": "1631891695"
                                },
                                {
                                    "0": "16",
                                    "1": "1631891789"
                                },
                                {
                                    "0": "17",
                                    "1": "1631891830"
                                },
                                {
                                    "0": "18",
                                    "1": "1631892337"
                                },
                                {
                                    "0": "19",
                                    "1": "1631892387"
                                },
                                {
                                    "0": "20",
                                    "1": "1631892499"
                                },
                                {
                                    "0": "21",
                                    "1": "1631892624"
                                },
                                {
                                    "0": "22",
                                    "1": "1631893383"
                                },
                                {
                                    "0": "23",
                                    "1": "1631893976"
                                },
                                {
                                    "0": "24",
                                    "1": "1631915455"
                                },
                                {
                                    "0": "25",
                                    "1": "1631915618"
                                },
                                {
                                    "0": "26",
                                    "1": "1631921366"
                                },
                                {
                                    "0": "27",
                                    "1": "1631921619"
                                },
                                {
                                    "0": "28",
                                    "1": "1631921707"
                                },
                                {
                                    "0": "29",
                                    "1": "1631921781"
                                },
                                {
                                    "0": "30",
                                    "1": "1631922084"
                                },
                                {
                                    "0": "31",
                                    "1": "1631923181"
                                },
                                {
                                    "0": "32",
                                    "1": "1631926126"
                                },
                                {
                                    "0": "33",
                                    "1": "1631926202"
                                },
                                {
                                    "0": "34",
                                    "1": "1631926252"
                                },
                                {
                                    "0": "35",
                                    "1": "1631926326"
                                },
                                {
                                    "0": "36",
                                    "1": "1631926406"
                                },
                                {
                                    "0": "37",
                                    "1": "1631928935"
                                },
                                {
                                    "0": "38",
                                    "1": "1631929018"
                                },
                                {
                                    "0": "39",
                                    "1": "1631929086"
                                },
                                {
                                    "0": "40",
                                    "1": "1631929215"
                                },
                                {
                                    "0": "41",
                                    "1": "1631983770"
                                },
                                {
                                    "0": "42",
                                    "1": "1631983902"
                                },
                                {
                                    "0": "43",
                                    "1": "1631983962"
                                },
                                {
                                    "0": "44",
                                    "1": "1631984096"
                                },
                                {
                                    "0": "45",
                                    "1": "1631984919"
                                },
                                {
                                    "0": "46",
                                    "1": "1631985363"
                                },
                                {
                                    "0": "47",
                                    "1": "1631985439"
                                },
                                {
                                    "0": "48",
                                    "1": "1631985563"
                                },
                                {
                                    "0": "49",
                                    "1": "1631986669"
                                },
                                {
                                    "0": "50",
                                    "1": "1631986753"
                                },
                                {
                                    "0": "51",
                                    "1": "1631986932"
                                },
                                {
                                    "0": "52",
                                    "1": "1631987171"
                                },
                                {
                                    "0": "53",
                                    "1": "1631987287"
                                },
                                {
                                    "0": "54",
                                    "1": "1631990187"
                                },
                                {
                                    "0": "55",
                                    "1": "1631990448"
                                },
                                {
                                    "0": "56",
                                    "1": "1631990643"
                                },
                                {
                                    "0": "57",
                                    "1": "1631994516"
                                },
                                {
                                    "0": "58",
                                    "1": "1631995243"
                                },
                                {
                                    "0": "59",
                                    "1": "1631995929"
                                },
                                {
                                    "0": "60",
                                    "1": "1631996291"
                                },
                                {
                                    "0": "61",
                                    "1": "1631996364"
                                },
                                {
                                    "0": "62",
                                    "1": "1631996529"
                                },
                                {
                                    "0": "63",
                                    "1": "1631999729"
                                },
                                {
                                    "0": "64",
                                    "1": "1631999937"
                                },
                                {
                                    "0": "65",
                                    "1": "1632000078"
                                },
                                {
                                    "0": "66",
                                    "1": "1632000606"
                                },
                                {
                                    "0": "67",
                                    "1": "1632002383"
                                },
                                {
                                    "0": "68",
                                    "1": "1632005125"
                                },
                                {
                                    "0": "69",
                                    "1": "1632005983"
                                },
                                {
                                    "0": "70",
                                    "1": "1632006066"
                                },
                                {
                                    "0": "71",
                                    "1": "1632006156"
                                },
                                {
                                    "0": "72",
                                    "1": "1632006442"
                                },
                                {
                                    "0": "73",
                                    "1": "1632006608"
                                },
                                {
                                    "0": "74",
                                    "1": "1632006802"
                                },
                                {
                                    "0": "75",
                                    "1": "1632008463"
                                },
                                {
                                    "0": "76",
                                    "1": "1632008714"
                                },
                                {
                                    "0": "77",
                                    "1": "1632009090"
                                },
                                {
                                    "0": "78",
                                    "1": "1632009317"
                                },
                                {
                                    "0": "79",
                                    "1": "1632029554"
                                },
                                {
                                    "0": "80",
                                    "1": "1632031276"
                                },
                                {
                                    "0": "81",
                                    "1": "1632031408"
                                },
                                {
                                    "0": "82",
                                    "1": "1632031644"
                                },
                                {
                                    "0": "83",
                                    "1": "1632031791"
                                },
                                {
                                    "0": "84",
                                    "1": "1632032047"
                                },
                                {
                                    "0": "85",
                                    "1": "1632032210"
                                },
                                {
                                    "0": "86",
                                    "1": "1632032458"
                                },
                                {
                                    "0": "87",
                                    "1": "1632032643"
                                },
                                {
                                    "0": "88",
                                    "1": "1632032871"
                                },
                                {
                                    "0": "89",
                                    "1": "1632033079"
                                },
                                {
                                    "0": "90",
                                    "1": "1632034599"
                                },
                                {
                                    "0": "91",
                                    "1": "1632035136"
                                },
                                {
                                    "0": "92",
                                    "1": "1632035294"
                                },
                                {
                                    "0": "93",
                                    "1": "1632035683"
                                },
                                {
                                    "0": "94",
                                    "1": "1632035954"
                                },
                                {
                                    "0": "95",
                                    "1": "1632036196"
                                },
                                {
                                    "0": "96",
                                    "1": "1632036263"
                                },
                                {
                                    "0": "97",
                                    "1": "1632036441"
                                },
                                {
                                    "0": "98",
                                    "1": "1632036671"
                                },
                                {
                                    "0": "99",
                                    "1": "1632036977"
                                },
                                {
                                    "0": "100",
                                    "1": "1632037128"
                                },
                                {
                                    "0": "101",
                                    "1": "1632037217"
                                },
                                {
                                    "0": "102",
                                    "1": "1632038644"
                                },
                                {
                                    "0": "103",
                                    "1": "1632039011"
                                },
                                {
                                    "0": "104",
                                    "1": "1632039386"
                                },
                                {
                                    "0": "105",
                                    "1": "1632039564"
                                },
                                {
                                    "0": "106",
                                    "1": "1632039741"
                                },
                                {
                                    "0": "107",
                                    "1": "1632039931"
                                },
                                {
                                    "0": "108",
                                    "1": "1632040108"
                                },
                                {
                                    "0": "109",
                                    "1": "1632040288"
                                },
                                {
                                    "0": "110",
                                    "1": "1632040440"
                                },
                                {
                                    "0": "111",
                                    "1": "1632040637"
                                },
                                {
                                    "0": "112",
                                    "1": "1632064797"
                                },
                                {
                                    "0": "113",
                                    "1": "1632067337"
                                },
                                {
                                    "0": "114",
                                    "1": "1632067577"
                                },
                                {
                                    "0": "115",
                                    "1": "1632070398"
                                },
                                {
                                    "0": "116",
                                    "1": "1632070756"
                                },
                                {
                                    "0": "117",
                                    "1": "1632072006"
                                },
                                {
                                    "0": "118",
                                    "1": "1632076158"
                                },
                                {
                                    "0": "119",
                                    "1": "1632077351"
                                },
                                {
                                    "0": "120",
                                    "1": "1632089230"
                                },
                                {
                                    "0": "121",
                                    "1": "1632090548"
                                },
                                {
                                    "0": "122",
                                    "1": "1632090752"
                                },
                                {
                                    "0": "123",
                                    "1": "1632090878"
                                },
                                {
                                    "0": "124",
                                    "1": "1632091052"
                                },
                                {
                                    "0": "125",
                                    "1": "1632091202"
                                },
                                {
                                    "0": "126",
                                    "1": "1632091349"
                                }
                            ]
                        },
                        "text/html": [
                            "<table>",
                            "<tr><th>turn_num</th><th>modifiedon</th></tr>",
                            "<tr><td>1</td><td>1631889735</td></tr>",
                            "<tr><td>2</td><td>1631889813</td></tr>",
                            "<tr><td>3</td><td>1631890124</td></tr>",
                            "<tr><td>4</td><td>1631890148</td></tr>",
                            "<tr><td>5</td><td>1631890201</td></tr>",
                            "<tr><td>6</td><td>1631890227</td></tr>",
                            "<tr><td>7</td><td>1631890267</td></tr>",
                            "<tr><td>8</td><td>1631890437</td></tr>",
                            "<tr><td>9</td><td>1631890531</td></tr>",
                            "<tr><td>10</td><td>1631890594</td></tr>",
                            "<tr><td>11</td><td>1631890633</td></tr>",
                            "<tr><td>12</td><td>1631890696</td></tr>",
                            "<tr><td>13</td><td>1631890766</td></tr>",
                            "<tr><td>14</td><td>1631891232</td></tr>",
                            "<tr><td>15</td><td>1631891695</td></tr>",
                            "<tr><td>16</td><td>1631891789</td></tr>",
                            "<tr><td>17</td><td>1631891830</td></tr>",
                            "<tr><td>18</td><td>1631892337</td></tr>",
                            "<tr><td>19</td><td>1631892387</td></tr>",
                            "<tr><td>20</td><td>1631892499</td></tr>",
                            "<tr><td>21</td><td>1631892624</td></tr>",
                            "<tr><td>22</td><td>1631893383</td></tr>",
                            "<tr><td>23</td><td>1631893976</td></tr>",
                            "<tr><td>24</td><td>1631915455</td></tr>",
                            "<tr><td>25</td><td>1631915618</td></tr>",
                            "<tr><td>26</td><td>1631921366</td></tr>",
                            "<tr><td>27</td><td>1631921619</td></tr>",
                            "<tr><td>28</td><td>1631921707</td></tr>",
                            "<tr><td>29</td><td>1631921781</td></tr>",
                            "<tr><td>30</td><td>1631922084</td></tr>",
                            "<tr><td>31</td><td>1631923181</td></tr>",
                            "<tr><td>32</td><td>1631926126</td></tr>",
                            "<tr><td>33</td><td>1631926202</td></tr>",
                            "<tr><td>34</td><td>1631926252</td></tr>",
                            "<tr><td>35</td><td>1631926326</td></tr>",
                            "<tr><td>36</td><td>1631926406</td></tr>",
                            "<tr><td>37</td><td>1631928935</td></tr>",
                            "<tr><td>38</td><td>1631929018</td></tr>",
                            "<tr><td>39</td><td>1631929086</td></tr>",
                            "<tr><td>40</td><td>1631929215</td></tr>",
                            "<tr><td>41</td><td>1631983770</td></tr>",
                            "<tr><td>42</td><td>1631983902</td></tr>",
                            "<tr><td>43</td><td>1631983962</td></tr>",
                            "<tr><td>44</td><td>1631984096</td></tr>",
                            "<tr><td>45</td><td>1631984919</td></tr>",
                            "<tr><td>46</td><td>1631985363</td></tr>",
                            "<tr><td>47</td><td>1631985439</td></tr>",
                            "<tr><td>48</td><td>1631985563</td></tr>",
                            "<tr><td>49</td><td>1631986669</td></tr>",
                            "<tr><td>50</td><td>1631986753</td></tr>",
                            "<tr><td>51</td><td>1631986932</td></tr>",
                            "<tr><td>52</td><td>1631987171</td></tr>",
                            "<tr><td>53</td><td>1631987287</td></tr>",
                            "<tr><td>54</td><td>1631990187</td></tr>",
                            "<tr><td>55</td><td>1631990448</td></tr>",
                            "<tr><td>56</td><td>1631990643</td></tr>",
                            "<tr><td>57</td><td>1631994516</td></tr>",
                            "<tr><td>58</td><td>1631995243</td></tr>",
                            "<tr><td>59</td><td>1631995929</td></tr>",
                            "<tr><td>60</td><td>1631996291</td></tr>",
                            "<tr><td>61</td><td>1631996364</td></tr>",
                            "<tr><td>62</td><td>1631996529</td></tr>",
                            "<tr><td>63</td><td>1631999729</td></tr>",
                            "<tr><td>64</td><td>1631999937</td></tr>",
                            "<tr><td>65</td><td>1632000078</td></tr>",
                            "<tr><td>66</td><td>1632000606</td></tr>",
                            "<tr><td>67</td><td>1632002383</td></tr>",
                            "<tr><td>68</td><td>1632005125</td></tr>",
                            "<tr><td>69</td><td>1632005983</td></tr>",
                            "<tr><td>70</td><td>1632006066</td></tr>",
                            "<tr><td>71</td><td>1632006156</td></tr>",
                            "<tr><td>72</td><td>1632006442</td></tr>",
                            "<tr><td>73</td><td>1632006608</td></tr>",
                            "<tr><td>74</td><td>1632006802</td></tr>",
                            "<tr><td>75</td><td>1632008463</td></tr>",
                            "<tr><td>76</td><td>1632008714</td></tr>",
                            "<tr><td>77</td><td>1632009090</td></tr>",
                            "<tr><td>78</td><td>1632009317</td></tr>",
                            "<tr><td>79</td><td>1632029554</td></tr>",
                            "<tr><td>80</td><td>1632031276</td></tr>",
                            "<tr><td>81</td><td>1632031408</td></tr>",
                            "<tr><td>82</td><td>1632031644</td></tr>",
                            "<tr><td>83</td><td>1632031791</td></tr>",
                            "<tr><td>84</td><td>1632032047</td></tr>",
                            "<tr><td>85</td><td>1632032210</td></tr>",
                            "<tr><td>86</td><td>1632032458</td></tr>",
                            "<tr><td>87</td><td>1632032643</td></tr>",
                            "<tr><td>88</td><td>1632032871</td></tr>",
                            "<tr><td>89</td><td>1632033079</td></tr>",
                            "<tr><td>90</td><td>1632034599</td></tr>",
                            "<tr><td>91</td><td>1632035136</td></tr>",
                            "<tr><td>92</td><td>1632035294</td></tr>",
                            "<tr><td>93</td><td>1632035683</td></tr>",
                            "<tr><td>94</td><td>1632035954</td></tr>",
                            "<tr><td>95</td><td>1632036196</td></tr>",
                            "<tr><td>96</td><td>1632036263</td></tr>",
                            "<tr><td>97</td><td>1632036441</td></tr>",
                            "<tr><td>98</td><td>1632036671</td></tr>",
                            "<tr><td>99</td><td>1632036977</td></tr>",
                            "<tr><td>100</td><td>1632037128</td></tr>",
                            "<tr><td>101</td><td>1632037217</td></tr>",
                            "<tr><td>102</td><td>1632038644</td></tr>",
                            "<tr><td>103</td><td>1632039011</td></tr>",
                            "<tr><td>104</td><td>1632039386</td></tr>",
                            "<tr><td>105</td><td>1632039564</td></tr>",
                            "<tr><td>106</td><td>1632039741</td></tr>",
                            "<tr><td>107</td><td>1632039931</td></tr>",
                            "<tr><td>108</td><td>1632040108</td></tr>",
                            "<tr><td>109</td><td>1632040288</td></tr>",
                            "<tr><td>110</td><td>1632040440</td></tr>",
                            "<tr><td>111</td><td>1632040637</td></tr>",
                            "<tr><td>112</td><td>1632064797</td></tr>",
                            "<tr><td>113</td><td>1632067337</td></tr>",
                            "<tr><td>114</td><td>1632067577</td></tr>",
                            "<tr><td>115</td><td>1632070398</td></tr>",
                            "<tr><td>116</td><td>1632070756</td></tr>",
                            "<tr><td>117</td><td>1632072006</td></tr>",
                            "<tr><td>118</td><td>1632076158</td></tr>",
                            "<tr><td>119</td><td>1632077351</td></tr>",
                            "<tr><td>120</td><td>1632089230</td></tr>",
                            "<tr><td>121</td><td>1632090548</td></tr>",
                            "<tr><td>122</td><td>1632090752</td></tr>",
                            "<tr><td>123</td><td>1632090878</td></tr>",
                            "<tr><td>124</td><td>1632091052</td></tr>",
                            "<tr><td>125</td><td>1632091202</td></tr>",
                            "<tr><td>126</td><td>1632091349</td></tr>",
                            "</table>"
                        ]
                    }
                }
            ],
            "execution_count": 18
        }
    ]
}