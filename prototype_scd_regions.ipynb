{
    "metadata": {
        "kernelspec": {
            "name": "SQL",
            "display_name": "SQL",
            "language": "sql"
        },
        "language_info": {
            "name": "sql",
            "version": ""
        }
    },
    "nbformat_minor": 2,
    "nbformat": 4,
    "cells": [
        {
            "cell_type": "code",
            "source": [
                "DROP TABLE IF EXISTS Test_RegionData;\r\n",
                "\r\n",
                "CREATE TABLE Test_RegionData(\r\n",
                "\r\n",
                "    region_name varchar(10) NOT NULL \r\n",
                "    , region_owner varchar( 10 ) NULL \r\n",
                "    , turn_num int NOT NULL \r\n",
                ")"
            ],
            "metadata": {
                "azdata_cell_guid": "d4ca62b5-11d9-44e5-8b54-7394a187ccb3",
                "tags": []
            },
            "outputs": [
                {
                    "output_type": "display_data",
                    "data": {
                        "text/html": "Commands completed successfully"
                    },
                    "metadata": {}
                },
                {
                    "output_type": "display_data",
                    "data": {
                        "text/html": "Commands completed successfully"
                    },
                    "metadata": {}
                },
                {
                    "output_type": "display_data",
                    "data": {
                        "text/html": "Total execution time: 00:00:00.044"
                    },
                    "metadata": {}
                }
            ],
            "execution_count": 6
        },
        {
            "cell_type": "code",
            "source": [
                "INSERT INTO Test_RegionData( \r\n",
                "    region_name\r\n",
                "    , region_owner \r\n",
                "    , turn_num \r\n",
                ")\r\n",
                "\r\n",
                "    VALUES\r\n",
                "    ( 'regionA', 'faction1' , '1' )\r\n",
                "    , ( 'regionA', 'faction1' , '2' )\r\n",
                "    , ( 'regionA', 'faction1' , '3' )\r\n",
                "    , ( 'regionB', 'faction2' , '1' )\r\n",
                "    , ( 'regionB', NULL , '2' )\r\n",
                "    , ( 'regionB', NULL , '3' )\r\n",
                "    , ( 'regionC', 'faction3' , '1' )\r\n",
                "    , ( 'regionC', NULL , '2' )\r\n",
                "    , ( 'regionC', 'faction1' , '3' )\r\n",
                "    , ( 'regionD', NULL , '1' )\r\n",
                "    , ( 'regionD', NULL , '2' )\r\n",
                "    , ( 'regionD', 'faction4' , '3' )\r\n",
                ""
            ],
            "metadata": {
                "azdata_cell_guid": "7ec9b72b-32a2-40b7-8ee7-ac5f7361336f",
                "tags": []
            },
            "outputs": [
                {
                    "output_type": "display_data",
                    "data": {
                        "text/html": "Commands completed successfully"
                    },
                    "metadata": {}
                },
                {
                    "output_type": "display_data",
                    "data": {
                        "text/html": "Total execution time: 00:00:00.011"
                    },
                    "metadata": {}
                }
            ],
            "execution_count": 7
        },
        {
            "cell_type": "code",
            "source": [
                "select \r\n",
                "    * \r\n",
                "--, lead(turn_num) over(partition by region_name, region_owner order by turn_num) as next_date\r\n",
                "    , LAG(turn_num, 1) OVER (PARTITION BY region_name, region_owner ORDER BY turn_num) AS lag\r\n",
                "    , LEAD(turn_num, 1) OVER (PARTITION BY region_name, region_owner ORDER BY turn_num) AS lead\r\n",
                "FROM Test_RegionData\r\n",
                "\r\n",
                ""
            ],
            "metadata": {
                "azdata_cell_guid": "6d360cdb-c8db-42d7-b5b2-644da8d6dd74",
                "tags": []
            },
            "outputs": [
                {
                    "output_type": "display_data",
                    "data": {
                        "text/html": "(12 row(s) affected)"
                    },
                    "metadata": {}
                },
                {
                    "output_type": "display_data",
                    "data": {
                        "text/html": "Total execution time: 00:00:00.004"
                    },
                    "metadata": {}
                },
                {
                    "output_type": "execute_result",
                    "metadata": {
                        "resultSet": {
                            "batchId": 0,
                            "columnInfo": [
                                {
                                    "_provider": "PGSQL",
                                    "allowDbNull": null,
                                    "baseCatalogName": null,
                                    "baseColumnName": "region_name",
                                    "baseSchemaName": null,
                                    "baseServerName": null,
                                    "baseTableName": null,
                                    "columnName": "region_name",
                                    "columnOrdinal": 0,
                                    "columnSize": 10,
                                    "dataType": "varchar",
                                    "isAliased": null,
                                    "isAutoIncrement": null,
                                    "isExpression": null,
                                    "isHidden": null,
                                    "isIdentity": null,
                                    "isKey": null,
                                    "isReadOnly": false,
                                    "isUnique": null,
                                    "isUpdatable": false,
                                    "numericPrecision": null,
                                    "numericScale": null
                                },
                                {
                                    "_provider": "PGSQL",
                                    "allowDbNull": null,
                                    "baseCatalogName": null,
                                    "baseColumnName": "region_owner",
                                    "baseSchemaName": null,
                                    "baseServerName": null,
                                    "baseTableName": null,
                                    "columnName": "region_owner",
                                    "columnOrdinal": 1,
                                    "columnSize": 10,
                                    "dataType": "varchar",
                                    "isAliased": null,
                                    "isAutoIncrement": null,
                                    "isExpression": null,
                                    "isHidden": null,
                                    "isIdentity": null,
                                    "isKey": null,
                                    "isReadOnly": false,
                                    "isUnique": null,
                                    "isUpdatable": false,
                                    "numericPrecision": null,
                                    "numericScale": null
                                },
                                {
                                    "_provider": "PGSQL",
                                    "allowDbNull": null,
                                    "baseCatalogName": null,
                                    "baseColumnName": "turn_num",
                                    "baseSchemaName": null,
                                    "baseServerName": null,
                                    "baseTableName": null,
                                    "columnName": "turn_num",
                                    "columnOrdinal": 2,
                                    "columnSize": 4,
                                    "dataType": "int4",
                                    "isAliased": null,
                                    "isAutoIncrement": null,
                                    "isExpression": null,
                                    "isHidden": null,
                                    "isIdentity": null,
                                    "isKey": null,
                                    "isReadOnly": false,
                                    "isUnique": null,
                                    "isUpdatable": false,
                                    "numericPrecision": null,
                                    "numericScale": null
                                },
                                {
                                    "_provider": "PGSQL",
                                    "allowDbNull": null,
                                    "baseCatalogName": null,
                                    "baseColumnName": "lag",
                                    "baseSchemaName": null,
                                    "baseServerName": null,
                                    "baseTableName": null,
                                    "columnName": "lag",
                                    "columnOrdinal": 3,
                                    "columnSize": 4,
                                    "dataType": "int4",
                                    "isAliased": null,
                                    "isAutoIncrement": null,
                                    "isExpression": null,
                                    "isHidden": null,
                                    "isIdentity": null,
                                    "isKey": null,
                                    "isReadOnly": false,
                                    "isUnique": null,
                                    "isUpdatable": false,
                                    "numericPrecision": null,
                                    "numericScale": null
                                },
                                {
                                    "_provider": "PGSQL",
                                    "allowDbNull": null,
                                    "baseCatalogName": null,
                                    "baseColumnName": "lead",
                                    "baseSchemaName": null,
                                    "baseServerName": null,
                                    "baseTableName": null,
                                    "columnName": "lead",
                                    "columnOrdinal": 4,
                                    "columnSize": 4,
                                    "dataType": "int4",
                                    "isAliased": null,
                                    "isAutoIncrement": null,
                                    "isExpression": null,
                                    "isHidden": null,
                                    "isIdentity": null,
                                    "isKey": null,
                                    "isReadOnly": false,
                                    "isUnique": null,
                                    "isUpdatable": false,
                                    "numericPrecision": null,
                                    "numericScale": null
                                }
                            ],
                            "complete": true,
                            "id": 0,
                            "rowCount": 12
                        }
                    },
                    "execution_count": 13,
                    "data": {
                        "application/vnd.dataresource+json": {
                            "schema": {
                                "fields": [
                                    {
                                        "name": "region_name"
                                    },
                                    {
                                        "name": "region_owner"
                                    },
                                    {
                                        "name": "turn_num"
                                    },
                                    {
                                        "name": "lag"
                                    },
                                    {
                                        "name": "lead"
                                    }
                                ]
                            },
                            "data": [
                                {
                                    "0": "regionA",
                                    "1": "faction1",
                                    "2": "1",
                                    "3": "NULL",
                                    "4": "2"
                                },
                                {
                                    "0": "regionA",
                                    "1": "faction1",
                                    "2": "2",
                                    "3": "1",
                                    "4": "3"
                                },
                                {
                                    "0": "regionA",
                                    "1": "faction1",
                                    "2": "3",
                                    "3": "2",
                                    "4": "NULL"
                                },
                                {
                                    "0": "regionB",
                                    "1": "faction2",
                                    "2": "1",
                                    "3": "NULL",
                                    "4": "NULL"
                                },
                                {
                                    "0": "regionB",
                                    "1": "NULL",
                                    "2": "2",
                                    "3": "NULL",
                                    "4": "3"
                                },
                                {
                                    "0": "regionB",
                                    "1": "NULL",
                                    "2": "3",
                                    "3": "2",
                                    "4": "NULL"
                                },
                                {
                                    "0": "regionC",
                                    "1": "faction1",
                                    "2": "3",
                                    "3": "NULL",
                                    "4": "NULL"
                                },
                                {
                                    "0": "regionC",
                                    "1": "faction3",
                                    "2": "1",
                                    "3": "NULL",
                                    "4": "NULL"
                                },
                                {
                                    "0": "regionC",
                                    "1": "NULL",
                                    "2": "2",
                                    "3": "NULL",
                                    "4": "NULL"
                                },
                                {
                                    "0": "regionD",
                                    "1": "faction4",
                                    "2": "3",
                                    "3": "NULL",
                                    "4": "NULL"
                                },
                                {
                                    "0": "regionD",
                                    "1": "NULL",
                                    "2": "1",
                                    "3": "NULL",
                                    "4": "2"
                                },
                                {
                                    "0": "regionD",
                                    "1": "NULL",
                                    "2": "2",
                                    "3": "1",
                                    "4": "NULL"
                                }
                            ]
                        },
                        "text/html": [
                            "<table>",
                            "<tr><th>region_name</th><th>region_owner</th><th>turn_num</th><th>lag</th><th>lead</th></tr>",
                            "<tr><td>regionA</td><td>faction1</td><td>1</td><td>NULL</td><td>2</td></tr>",
                            "<tr><td>regionA</td><td>faction1</td><td>2</td><td>1</td><td>3</td></tr>",
                            "<tr><td>regionA</td><td>faction1</td><td>3</td><td>2</td><td>NULL</td></tr>",
                            "<tr><td>regionB</td><td>faction2</td><td>1</td><td>NULL</td><td>NULL</td></tr>",
                            "<tr><td>regionB</td><td>NULL</td><td>2</td><td>NULL</td><td>3</td></tr>",
                            "<tr><td>regionB</td><td>NULL</td><td>3</td><td>2</td><td>NULL</td></tr>",
                            "<tr><td>regionC</td><td>faction1</td><td>3</td><td>NULL</td><td>NULL</td></tr>",
                            "<tr><td>regionC</td><td>faction3</td><td>1</td><td>NULL</td><td>NULL</td></tr>",
                            "<tr><td>regionC</td><td>NULL</td><td>2</td><td>NULL</td><td>NULL</td></tr>",
                            "<tr><td>regionD</td><td>faction4</td><td>3</td><td>NULL</td><td>NULL</td></tr>",
                            "<tr><td>regionD</td><td>NULL</td><td>1</td><td>NULL</td><td>2</td></tr>",
                            "<tr><td>regionD</td><td>NULL</td><td>2</td><td>1</td><td>NULL</td></tr>",
                            "</table>"
                        ]
                    }
                }
            ],
            "execution_count": 13
        },
        {
            "cell_type": "code",
            "source": [
                "select \r\n",
                "    *\r\n",
                "FROM (\r\n",
                "    select \r\n",
                "        *\r\n",
                "        , ROW_NUMBER() OVER (PARTITION BY region_name, region_owner ORDER BY turn_num) as parition_row \r\n",
                "        , MIN(turn_num) over (partition by region_name, region_owner ORDER BY turn_num) as valid_from_turn\r\n",
                "        , MAX(turn_num) over (partition by region_name, region_owner ) as valid_to_turn\r\n",
                "    FROM Test_RegionData\r\n",
                ") as q \r\n",
                "where parition_row = 1 \r\n",
                ""
            ],
            "metadata": {
                "azdata_cell_guid": "cf44c75f-31bd-49a6-9b5a-06ea94b58d45",
                "tags": []
            },
            "outputs": [
                {
                    "output_type": "display_data",
                    "data": {
                        "text/html": "(8 row(s) affected)"
                    },
                    "metadata": {}
                },
                {
                    "output_type": "display_data",
                    "data": {
                        "text/html": "Total execution time: 00:00:00.003"
                    },
                    "metadata": {}
                },
                {
                    "output_type": "execute_result",
                    "metadata": {
                        "resultSet": {
                            "batchId": 0,
                            "columnInfo": [
                                {
                                    "_provider": "PGSQL",
                                    "allowDbNull": null,
                                    "baseCatalogName": null,
                                    "baseColumnName": "region_name",
                                    "baseSchemaName": null,
                                    "baseServerName": null,
                                    "baseTableName": null,
                                    "columnName": "region_name",
                                    "columnOrdinal": 0,
                                    "columnSize": 10,
                                    "dataType": "varchar",
                                    "isAliased": null,
                                    "isAutoIncrement": null,
                                    "isExpression": null,
                                    "isHidden": null,
                                    "isIdentity": null,
                                    "isKey": null,
                                    "isReadOnly": false,
                                    "isUnique": null,
                                    "isUpdatable": false,
                                    "numericPrecision": null,
                                    "numericScale": null
                                },
                                {
                                    "_provider": "PGSQL",
                                    "allowDbNull": null,
                                    "baseCatalogName": null,
                                    "baseColumnName": "region_owner",
                                    "baseSchemaName": null,
                                    "baseServerName": null,
                                    "baseTableName": null,
                                    "columnName": "region_owner",
                                    "columnOrdinal": 1,
                                    "columnSize": 10,
                                    "dataType": "varchar",
                                    "isAliased": null,
                                    "isAutoIncrement": null,
                                    "isExpression": null,
                                    "isHidden": null,
                                    "isIdentity": null,
                                    "isKey": null,
                                    "isReadOnly": false,
                                    "isUnique": null,
                                    "isUpdatable": false,
                                    "numericPrecision": null,
                                    "numericScale": null
                                },
                                {
                                    "_provider": "PGSQL",
                                    "allowDbNull": null,
                                    "baseCatalogName": null,
                                    "baseColumnName": "turn_num",
                                    "baseSchemaName": null,
                                    "baseServerName": null,
                                    "baseTableName": null,
                                    "columnName": "turn_num",
                                    "columnOrdinal": 2,
                                    "columnSize": 4,
                                    "dataType": "int4",
                                    "isAliased": null,
                                    "isAutoIncrement": null,
                                    "isExpression": null,
                                    "isHidden": null,
                                    "isIdentity": null,
                                    "isKey": null,
                                    "isReadOnly": false,
                                    "isUnique": null,
                                    "isUpdatable": false,
                                    "numericPrecision": null,
                                    "numericScale": null
                                },
                                {
                                    "_provider": "PGSQL",
                                    "allowDbNull": null,
                                    "baseCatalogName": null,
                                    "baseColumnName": "row",
                                    "baseSchemaName": null,
                                    "baseServerName": null,
                                    "baseTableName": null,
                                    "columnName": "row",
                                    "columnOrdinal": 3,
                                    "columnSize": 8,
                                    "dataType": "int8",
                                    "isAliased": null,
                                    "isAutoIncrement": null,
                                    "isExpression": null,
                                    "isHidden": null,
                                    "isIdentity": null,
                                    "isKey": null,
                                    "isReadOnly": false,
                                    "isUnique": null,
                                    "isUpdatable": false,
                                    "numericPrecision": null,
                                    "numericScale": null
                                },
                                {
                                    "_provider": "PGSQL",
                                    "allowDbNull": null,
                                    "baseCatalogName": null,
                                    "baseColumnName": "validfrom",
                                    "baseSchemaName": null,
                                    "baseServerName": null,
                                    "baseTableName": null,
                                    "columnName": "validfrom",
                                    "columnOrdinal": 4,
                                    "columnSize": 4,
                                    "dataType": "int4",
                                    "isAliased": null,
                                    "isAutoIncrement": null,
                                    "isExpression": null,
                                    "isHidden": null,
                                    "isIdentity": null,
                                    "isKey": null,
                                    "isReadOnly": false,
                                    "isUnique": null,
                                    "isUpdatable": false,
                                    "numericPrecision": null,
                                    "numericScale": null
                                },
                                {
                                    "_provider": "PGSQL",
                                    "allowDbNull": null,
                                    "baseCatalogName": null,
                                    "baseColumnName": "validto",
                                    "baseSchemaName": null,
                                    "baseServerName": null,
                                    "baseTableName": null,
                                    "columnName": "validto",
                                    "columnOrdinal": 5,
                                    "columnSize": 4,
                                    "dataType": "int4",
                                    "isAliased": null,
                                    "isAutoIncrement": null,
                                    "isExpression": null,
                                    "isHidden": null,
                                    "isIdentity": null,
                                    "isKey": null,
                                    "isReadOnly": false,
                                    "isUnique": null,
                                    "isUpdatable": false,
                                    "numericPrecision": null,
                                    "numericScale": null
                                }
                            ],
                            "complete": true,
                            "id": 0,
                            "rowCount": 8
                        }
                    },
                    "execution_count": 51,
                    "data": {
                        "application/vnd.dataresource+json": {
                            "schema": {
                                "fields": [
                                    {
                                        "name": "region_name"
                                    },
                                    {
                                        "name": "region_owner"
                                    },
                                    {
                                        "name": "turn_num"
                                    },
                                    {
                                        "name": "row"
                                    },
                                    {
                                        "name": "validfrom"
                                    },
                                    {
                                        "name": "validto"
                                    }
                                ]
                            },
                            "data": [
                                {
                                    "0": "regionA",
                                    "1": "faction1",
                                    "2": "1",
                                    "3": "1",
                                    "4": "1",
                                    "5": "3"
                                },
                                {
                                    "0": "regionB",
                                    "1": "faction2",
                                    "2": "1",
                                    "3": "1",
                                    "4": "1",
                                    "5": "1"
                                },
                                {
                                    "0": "regionB",
                                    "1": "NULL",
                                    "2": "2",
                                    "3": "1",
                                    "4": "2",
                                    "5": "3"
                                },
                                {
                                    "0": "regionC",
                                    "1": "faction1",
                                    "2": "3",
                                    "3": "1",
                                    "4": "3",
                                    "5": "3"
                                },
                                {
                                    "0": "regionC",
                                    "1": "faction3",
                                    "2": "1",
                                    "3": "1",
                                    "4": "1",
                                    "5": "1"
                                },
                                {
                                    "0": "regionC",
                                    "1": "NULL",
                                    "2": "2",
                                    "3": "1",
                                    "4": "2",
                                    "5": "2"
                                },
                                {
                                    "0": "regionD",
                                    "1": "faction4",
                                    "2": "3",
                                    "3": "1",
                                    "4": "3",
                                    "5": "3"
                                },
                                {
                                    "0": "regionD",
                                    "1": "NULL",
                                    "2": "1",
                                    "3": "1",
                                    "4": "1",
                                    "5": "2"
                                }
                            ]
                        },
                        "text/html": [
                            "<table>",
                            "<tr><th>region_name</th><th>region_owner</th><th>turn_num</th><th>row</th><th>validfrom</th><th>validto</th></tr>",
                            "<tr><td>regionA</td><td>faction1</td><td>1</td><td>1</td><td>1</td><td>3</td></tr>",
                            "<tr><td>regionB</td><td>faction2</td><td>1</td><td>1</td><td>1</td><td>1</td></tr>",
                            "<tr><td>regionB</td><td>NULL</td><td>2</td><td>1</td><td>2</td><td>3</td></tr>",
                            "<tr><td>regionC</td><td>faction1</td><td>3</td><td>1</td><td>3</td><td>3</td></tr>",
                            "<tr><td>regionC</td><td>faction3</td><td>1</td><td>1</td><td>1</td><td>1</td></tr>",
                            "<tr><td>regionC</td><td>NULL</td><td>2</td><td>1</td><td>2</td><td>2</td></tr>",
                            "<tr><td>regionD</td><td>faction4</td><td>3</td><td>1</td><td>3</td><td>3</td></tr>",
                            "<tr><td>regionD</td><td>NULL</td><td>1</td><td>1</td><td>1</td><td>2</td></tr>",
                            "</table>"
                        ]
                    }
                }
            ],
            "execution_count": 51
        }
    ]
}