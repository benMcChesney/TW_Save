{
 "cells": [
  {
   "cell_type": "markdown",
   "metadata": {},
   "source": [
    "## Initalize notebook and load configuration"
   ]
  },
  {
   "cell_type": "code",
   "execution_count": 5,
   "metadata": {},
   "outputs": [
    {
     "name": "stdout",
     "output_type": "stream",
     "text": [
      "dependencies loaded.\n",
      "loading esf paths from file @  skaven_clan_skryre_me_one.txt\n",
      "notebook initialized\n"
     ]
    }
   ],
   "source": [
    "import esf_utils\n",
    "import os \n",
    "import pandas as pd \n",
    "import xml.etree.ElementTree as ET\n",
    "import shutil\n",
    "import configparser\n",
    "import time\n",
    "import datetime\n",
    "import sys\n",
    "\n",
    "print ( 'dependencies loaded.')\n",
    "\n",
    "campaign_esf_paths_file = 'skaven_clan_skryre_me_one.txt'\n",
    "campaign_files = esf_utils.parse_campaign_files_txt( campaign_esf_paths_file )\n",
    "\n",
    "\n",
    "config = configparser.ConfigParser()\n",
    "config.read('config.ini')\n",
    "\n",
    "esf2xml_dir =  config['dependencies']['esf2xml']\n",
    "save_folder = config['paths']['save_game_folder']\n",
    "output_folder = config['paths']['output_folder']\n",
    "extracted_subfolder = config['paths']['extracted_subfolder']\n",
    "cwd = os.getcwd()\n",
    "\n",
    "print('notebook initialized')"
   ]
  },
  {
   "cell_type": "markdown",
   "metadata": {},
   "source": [
    "## Testing all together "
   ]
  },
  {
   "cell_type": "code",
   "execution_count": 6,
   "metadata": {},
   "outputs": [
    {
     "name": "stdout",
     "output_type": "stream",
     "text": [
      "skipping extract...\n",
      "out=extract\\Clan_Skryre_Auto_save.181597358761.save_extract\\extract\\\n",
      "@ 0  / 0 folders loaded and exported\n"
     ]
    }
   ],
   "source": [
    "# notebook for parsing a file \n",
    "econ_array = []\n",
    "army_array = [] \n",
    "region_array = []\n",
    "\n",
    "max = len(campaign_files)-1\n",
    "i = 0 \n",
    "\n",
    "\n",
    "for s in campaign_files:\n",
    "\n",
    "    save_file_clean = esf_utils.clean_filename( s )\n",
    "    #'extract\\\\$filename_extract'\n",
    "\n",
    "    out = output_folder\n",
    "    templated = out.replace( '[$filename]', save_file_clean )\n",
    "    \n",
    "    full_path = os.path.join( save_folder , s )\n",
    "    #output_dir =  f\"{save_file_clean}_extract\"\n",
    "    file_modstamp = os.path.getmtime(full_path)\n",
    "    ts = datetime.datetime.fromtimestamp( file_modstamp )\n",
    "    unix_timestamp = int(time.mktime(ts.timetuple()))\n",
    "\n",
    "    ''''''\n",
    "    try:\n",
    "        dat1 = esf_utils.extract_save_file( \n",
    "        save_folder \n",
    "        , s\n",
    "        ,templated\n",
    "        ,config \n",
    "        )\n",
    "    except:\n",
    "        print(\"An exception occurred while extracting\")\n",
    "    \n",
    "\n",
    "    extracted_output = os.path.join(templated, extracted_subfolder)\n",
    "    \n",
    "    try :\n",
    "        session_id = esf_utils.get_session_guid( extracted_output )[1]\n",
    "        turn_num = esf_utils.get_turn_number( extracted_output )\n",
    "    \n",
    "        # for faction economics at a high KPI level\n",
    "        new_array = []\n",
    "        esf_utils.parse_extracted_factions_folder( extracted_output, new_array ) \n",
    "        for r in new_array:\n",
    "            r[\"session.id\"] = session_id\n",
    "            r[\"turn_num\"] = turn_num\n",
    "            r[\"modifiedOn\"] = unix_timestamp\n",
    "            econ_array.append( r ) \n",
    "        econ_df = pd.DataFrame( econ_array )\n",
    "        econ_df.to_csv('export_faction_economy.csv')\n",
    "        \n",
    "        # parse army information\n",
    "        new_array = []\n",
    "        #session_id, session_guid, turn_num = \n",
    "        esf_utils.parse_extracted_armies_folder( extracted_output, new_array ) \n",
    "\n",
    "        # write in all data universal to this save file\n",
    "        for r in new_array:\n",
    "            r[\"session.id\"] = session_id\n",
    "            r[\"turn_num\"] = turn_num\n",
    "            r[\"modifiedOn\"] = unix_timestamp\n",
    "            army_array.append( r )\n",
    "        army_df = pd.DataFrame( army_array )\n",
    "        army_df.to_csv('export_army_unit.csv')\n",
    "\n",
    "        # parse region information\n",
    "        new_array = []\n",
    "        esf_utils.parse_extracted_region_folder( extracted_output, new_array ) \n",
    "        \n",
    "         # write in all data universal to this save file\n",
    "        for r in new_array:\n",
    "            r[\"session.id\"] = session_id\n",
    "            r[\"turn_num\"] = turn_num\n",
    "            r[\"modifiedOn\"] = unix_timestamp\n",
    "            region_array.append( r )\n",
    "        region_df = pd.DataFrame( region_array ) \n",
    "        region_df.to_csv( 'export_region.csv' )\n",
    "        \n",
    "    except:\n",
    "        print(\"An exception occurred while extracting\")\n",
    "   \n",
    "    print( f\"@ { i }  / { max } folders loaded and exported\")\n",
    "    i += 1"
   ]
  },
  {
   "cell_type": "markdown",
   "metadata": {},
   "source": [
    "# Just testing extract_regions  "
   ]
  },
  {
   "cell_type": "code",
   "execution_count": 4,
   "metadata": {},
   "outputs": [
    {
     "name": "stdout",
     "output_type": "stream",
     "text": [
      "out=extract\\Clan_Skryre_Auto_save.181597358761.save_extract\\extract\\\n",
      "exported to region.csv\n"
     ]
    }
   ],
   "source": [
    "for s in campaign_files:\n",
    "    save_file_clean = esf_utils.clean_filename( s )\n",
    "    out = output_folder\n",
    "    templated = out.replace( '[$filename]', save_file_clean )\n",
    "    full_path = os.path.join( save_folder , s )   \n",
    "    extracted_output = os.path.join(templated, extracted_subfolder)\n",
    "\n",
    "    # for region and control \n",
    "    new_array = []\n",
    "    esf_utils.parse_extracted_region_folder( extracted_output, new_array ) \n",
    "    region_df = pd.DataFrame( new_array )\n",
    "    region_df.to_csv( 'export_region.csv' , index=False )\n",
    "    print ( 'exported to region.csv')   \n",
    " "
   ]
  }
 ],
 "metadata": {
  "interpreter": {
   "hash": "68bf38532125f830937b5b0fa21162aa884577d1b02842ef719f4091a6bcfc6f"
  },
  "kernelspec": {
   "display_name": "Python 3.9.6 64-bit ('tw_save': conda)",
   "name": "python3"
  },
  "language_info": {
   "codemirror_mode": {
    "name": "ipython",
    "version": 3
   },
   "file_extension": ".py",
   "mimetype": "text/x-python",
   "name": "python",
   "nbconvert_exporter": "python",
   "pygments_lexer": "ipython3",
   "version": "3.9.7"
  },
  "orig_nbformat": 4
 },
 "nbformat": 4,
 "nbformat_minor": 2
}
